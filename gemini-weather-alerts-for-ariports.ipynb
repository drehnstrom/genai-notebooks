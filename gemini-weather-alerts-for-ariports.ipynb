{
  "cells": [
    {
      "cell_type": "markdown",
      "source": [
        "# Use Gemini to generate alerts for Airports based on the Weather\n",
        "\n",
        "The code uses an API from the National Weather Service to get the weather reports for a collection of Airports.\n",
        "\n",
        "Then, Gemini is used to create alerts for each airport based on the weather data."
      ],
      "metadata": {
        "id": "Q4nQjXJdtPsg"
      },
      "id": "Q4nQjXJdtPsg"
    },
    {
      "cell_type": "markdown",
      "source": [
        "## Setup for Weather API\n",
        "\n",
        "The API (api.weather.gov) is free and you don't need a key. Tell them who you are though. Beware, you could run into quota errors on a large enough scale."
      ],
      "metadata": {
        "id": "Sz9O6Cw1uKNK"
      },
      "id": "Sz9O6Cw1uKNK"
    },
    {
      "cell_type": "code",
      "id": "uWP42wwY7l3NfZTCxHBtmUIs",
      "metadata": {
        "tags": [],
        "id": "uWP42wwY7l3NfZTCxHBtmUIs",
        "colab": {
          "base_uri": "https://localhost:8080/"
        },
        "executionInfo": {
          "status": "ok",
          "timestamp": 1744727212185,
          "user_tz": 240,
          "elapsed": 653,
          "user": {
            "displayName": "",
            "userId": ""
          }
        },
        "outputId": "e79b3b52-2824-427d-90c7-804b5226cd71"
      },
      "source": [
        "import requests\n",
        "\n",
        "headers = {\n",
        "    'User-Agent': 'doug@roitraining.com',  # NWS requires a user-agent. Enter your email\n",
        "    'Accept': 'application/ld+json'\n",
        "}\n",
        "print(\"Done\")"
      ],
      "execution_count": 2,
      "outputs": [
        {
          "output_type": "stream",
          "name": "stdout",
          "text": [
            "Done\n"
          ]
        }
      ]
    },
    {
      "cell_type": "markdown",
      "source": [
        "## Example using one city\n",
        "\n",
        "The example below take the latitude and longitude of a single city and prints the extended forecast."
      ],
      "metadata": {
        "id": "RHkCcMDSuf5x"
      },
      "id": "RHkCcMDSuf5x"
    },
    {
      "cell_type": "code",
      "source": [
        "lat, lon = 38.968, -77.3410958  # Reston, VA\n",
        "\n",
        "point_url = f'https://api.weather.gov/points/{lat},{lon}'\n",
        "\n",
        "# Step 1: Get gridpoint info\n",
        "point_response = requests.get(point_url, headers=headers)\n",
        "forecast_url = point_response.json()['forecast']\n",
        "\n",
        "# Step 2: Get forecast from URL\n",
        "forecast_response = requests.get(forecast_url, headers=headers)\n",
        "forecast_data = forecast_response.json()\n",
        "\n",
        "# Step 3: Print each forecast period\n",
        "for period in forecast_data['periods']:\n",
        "    print(f\"{period['name']}: {period['detailedForecast']}\")\n"
      ],
      "metadata": {
        "colab": {
          "base_uri": "https://localhost:8080/"
        },
        "id": "_qUNvz3TiYQx",
        "executionInfo": {
          "status": "ok",
          "timestamp": 1744727215139,
          "user_tz": 240,
          "elapsed": 673,
          "user": {
            "displayName": "",
            "userId": ""
          }
        },
        "outputId": "979a7367-229f-41c4-96d0-6576d446d07f"
      },
      "id": "_qUNvz3TiYQx",
      "execution_count": 3,
      "outputs": [
        {
          "output_type": "stream",
          "name": "stdout",
          "text": [
            "Today: A slight chance of rain showers. Partly sunny, with a high near 64. West wind 15 to 28 mph, with gusts as high as 47 mph. Chance of precipitation is 20%. New rainfall amounts less than a tenth of an inch possible.\n",
            "Tonight: A slight chance of rain showers before 8pm. Partly cloudy, with a low around 43. West wind 12 to 21 mph, with gusts as high as 36 mph. Chance of precipitation is 20%. New rainfall amounts less than a tenth of an inch possible.\n",
            "Wednesday: Mostly sunny, with a high near 58. West wind 12 to 22 mph, with gusts as high as 36 mph.\n",
            "Wednesday Night: Clear, with a low around 39. Northwest wind 6 to 16 mph, with gusts as high as 30 mph.\n",
            "Thursday: Sunny, with a high near 64. Northwest wind 6 to 9 mph.\n",
            "Thursday Night: Partly cloudy, with a low around 43.\n",
            "Friday: Mostly sunny, with a high near 73.\n",
            "Friday Night: Mostly cloudy, with a low around 61.\n",
            "Saturday: A chance of rain showers after 8am. Mostly cloudy, with a high near 83. Chance of precipitation is 30%.\n",
            "Saturday Night: A chance of rain showers before 8pm, then a slight chance of showers and thunderstorms. Mostly cloudy, with a low around 57. Chance of precipitation is 30%.\n",
            "Sunday: A slight chance of rain showers before 8am. Partly sunny, with a high near 70.\n",
            "Sunday Night: Mostly cloudy, with a low around 52.\n",
            "Monday: A slight chance of rain showers after 8am. Partly sunny, with a high near 73.\n",
            "Monday Night: A chance of rain showers. Mostly cloudy, with a low around 59. Chance of precipitation is 40%.\n"
          ]
        }
      ]
    },
    {
      "cell_type": "markdown",
      "source": [
        "## Example using a collection of Airports\n",
        "\n",
        "This is mostly the same as the code above, but it feeds in the locations of a number of US airports.\n",
        "\n",
        "Note, if you wanted to use airports in another country, you would have to use a different API."
      ],
      "metadata": {
        "id": "Ne8wLQP5uq9M"
      },
      "id": "Ne8wLQP5uq9M"
    },
    {
      "cell_type": "code",
      "source": [
        "# Dictionary of airport codes and lat/lon\n",
        "airports = {\n",
        "    \"JFK\": (40.6413, -73.7781),    # John F. Kennedy Intl\n",
        "    \"LGA\": (40.7769, -73.8740),    # LaGuardia\n",
        "    \"EWR\": (40.6895, -74.1745),    # Newark Liberty Intl\n",
        "    \"PHI\": (39.8719, -75.2411),    # Philadelphia Intl\n",
        "    \"BWI\": (39.1754, -76.6684),    # Baltimore/Washington Intl\n",
        "    \"DCA\": (38.8512, -77.0402),    # Washington National\n",
        "    \"WAS\": (38.8951, -77.0364),    # Washington DC (generic)\n",
        "    \"IAD\": (38.9531, -77.4565),    # Washington Dulles Intl\n",
        "    \"MIA\": (25.7959, -80.2870),    # Miami Intl\n",
        "    \"ATL\": (33.6407, -84.4277),    # Hartsfield–Jackson Atlanta Intl\n",
        "    \"MSY\": (29.9934, -90.2580),    # New Orleans Intl\n",
        "    \"IAH\": (29.9902, -95.3368),    # George Bush Intercontinental\n",
        "    \"DFW\": (32.8998, -97.0403),    # Dallas/Fort Worth Intl\n",
        "    \"ORD\": (41.9742, -87.9073),    # Chicago O'Hare Intl\n",
        "    \"MSP\": (44.8818, -93.2218),    # Minneapolis–Saint Paul Intl\n",
        "    \"DEN\": (39.8561, -104.6737),   # Denver Intl\n",
        "    \"ANC\": (61.1744, -149.9964),   # Anchorage Intl\n",
        "    \"LAS\": (36.0840, -115.1537),   # Las Vegas Harry Reid Intl\n",
        "    \"SAN\": (32.7338, -117.1933),   # San Diego Intl\n",
        "    \"LAX\": (33.9416, -118.4085),   # Los Angeles Intl\n",
        "    \"SFO\": (37.6213, -122.3790),    # San Francisco Intl\n",
        "    \"HNL\": (21.3187, -157.9225)    # Honolulu Intl\n",
        "}\n",
        "\n",
        "\n",
        "# This will hold all forecasts\n",
        "airport_forecasts = {}\n",
        "\n",
        "for code, (lat, lon) in airports.items():\n",
        "    print(f\"\\n🛫 Getting forecast for {code} ({lat}, {lon})...\")\n",
        "\n",
        "    point_url = f'https://api.weather.gov/points/{lat},{lon}'\n",
        "    point_response = requests.get(point_url, headers=headers)\n",
        "\n",
        "    if point_response.status_code != 200:\n",
        "        print(f\"  ⚠️ Failed to retrieve grid info for {code}\")\n",
        "        continue\n",
        "\n",
        "    forecast_url = point_response.json()['forecast']\n",
        "    forecast_response = requests.get(forecast_url, headers=headers)\n",
        "\n",
        "    if forecast_response.status_code != 200:\n",
        "        print(f\"  ⚠️ Failed to retrieve forecast for {code}\")\n",
        "        continue\n",
        "\n",
        "    forecast_data = forecast_response.json()\n",
        "    periods = forecast_data['periods']\n",
        "\n",
        "    # Store just the relevant fields: name and detailedForecast\n",
        "    airport_forecasts[code] = [\n",
        "        {\"name\": period['name'], \"forecast\": period['detailedForecast']}\n",
        "        for period in periods\n",
        "    ]\n",
        "\n",
        "# Example: Print stored forecast for IAD\n",
        "print(\"\\n📦 Stored Forecasts for IAD:\")\n",
        "for entry in airport_forecasts.get(\"IAD\", []):\n",
        "    print(f\"  {entry['name']}: {entry['forecast']}\")\n"
      ],
      "metadata": {
        "colab": {
          "base_uri": "https://localhost:8080/"
        },
        "id": "rD7ty8yFpRua",
        "executionInfo": {
          "status": "ok",
          "timestamp": 1744727224864,
          "user_tz": 240,
          "elapsed": 3741,
          "user": {
            "displayName": "",
            "userId": ""
          }
        },
        "outputId": "a79d756a-41d6-4042-87b3-80c6a838f044"
      },
      "id": "rD7ty8yFpRua",
      "execution_count": 4,
      "outputs": [
        {
          "output_type": "stream",
          "name": "stdout",
          "text": [
            "\n",
            "🛫 Getting forecast for JFK (40.6413, -73.7781)...\n",
            "\n",
            "🛫 Getting forecast for LGA (40.7769, -73.874)...\n",
            "\n",
            "🛫 Getting forecast for EWR (40.6895, -74.1745)...\n",
            "\n",
            "🛫 Getting forecast for PHI (39.8719, -75.2411)...\n",
            "\n",
            "🛫 Getting forecast for BWI (39.1754, -76.6684)...\n",
            "\n",
            "🛫 Getting forecast for DCA (38.8512, -77.0402)...\n",
            "\n",
            "🛫 Getting forecast for WAS (38.8951, -77.0364)...\n",
            "\n",
            "🛫 Getting forecast for IAD (38.9531, -77.4565)...\n",
            "\n",
            "🛫 Getting forecast for MIA (25.7959, -80.287)...\n",
            "\n",
            "🛫 Getting forecast for ATL (33.6407, -84.4277)...\n",
            "\n",
            "🛫 Getting forecast for MSY (29.9934, -90.258)...\n",
            "\n",
            "🛫 Getting forecast for IAH (29.9902, -95.3368)...\n",
            "\n",
            "🛫 Getting forecast for DFW (32.8998, -97.0403)...\n",
            "\n",
            "🛫 Getting forecast for ORD (41.9742, -87.9073)...\n",
            "\n",
            "🛫 Getting forecast for MSP (44.8818, -93.2218)...\n",
            "\n",
            "🛫 Getting forecast for DEN (39.8561, -104.6737)...\n",
            "\n",
            "🛫 Getting forecast for ANC (61.1744, -149.9964)...\n",
            "\n",
            "🛫 Getting forecast for LAS (36.084, -115.1537)...\n",
            "\n",
            "🛫 Getting forecast for SAN (32.7338, -117.1933)...\n",
            "\n",
            "🛫 Getting forecast for LAX (33.9416, -118.4085)...\n",
            "\n",
            "🛫 Getting forecast for SFO (37.6213, -122.379)...\n",
            "\n",
            "🛫 Getting forecast for HNL (21.3187, -157.9225)...\n",
            "\n",
            "📦 Stored Forecasts for IAD:\n",
            "  Today: A slight chance of rain showers. Mostly cloudy, with a high near 64. West wind 13 to 28 mph, with gusts as high as 47 mph. Chance of precipitation is 20%. New rainfall amounts less than a tenth of an inch possible.\n",
            "  Tonight: A slight chance of rain showers before 8pm. Partly cloudy, with a low around 42. West wind 10 to 22 mph, with gusts as high as 35 mph. Chance of precipitation is 20%. New rainfall amounts less than a tenth of an inch possible.\n",
            "  Wednesday: Sunny, with a high near 58. West wind 10 to 22 mph, with gusts as high as 35 mph.\n",
            "  Wednesday Night: Mostly clear, with a low around 38. Northwest wind 3 to 16 mph, with gusts as high as 29 mph.\n",
            "  Thursday: Sunny, with a high near 64. Northwest wind 6 to 9 mph.\n",
            "  Thursday Night: Partly cloudy, with a low around 43.\n",
            "  Friday: Partly sunny, with a high near 73.\n",
            "  Friday Night: Mostly cloudy, with a low around 61.\n",
            "  Saturday: A chance of rain showers after 8am. Mostly cloudy, with a high near 83. Chance of precipitation is 30%.\n",
            "  Saturday Night: A chance of rain showers before 8pm, then a slight chance of showers and thunderstorms. Mostly cloudy, with a low around 56. Chance of precipitation is 30%.\n",
            "  Sunday: A slight chance of rain showers before 8am. Partly sunny, with a high near 70.\n",
            "  Sunday Night: Mostly cloudy, with a low around 52.\n",
            "  Monday: A slight chance of rain showers after 8am. Partly sunny, with a high near 73.\n",
            "  Monday Night: A chance of rain showers. Mostly cloudy, with a low around 58. Chance of precipitation is 40%.\n"
          ]
        }
      ]
    },
    {
      "cell_type": "markdown",
      "source": [
        "## Code to use Gemini to execute a prompt"
      ],
      "metadata": {
        "id": "HAruAqFXwfA2"
      },
      "id": "HAruAqFXwfA2"
    },
    {
      "cell_type": "code",
      "source": [
        "from google import genai\n",
        "from google.genai import types\n",
        "import base64\n",
        "\n",
        "def generate(prompt):\n",
        "  client = genai.Client(\n",
        "      vertexai=True,\n",
        "      project=\"data-beans-demo-bw9hkyky0o\",\n",
        "      location=\"us-central1\",\n",
        "  )\n",
        "\n",
        "\n",
        "  model = \"gemini-2.0-flash-001\"\n",
        "  contents = [\n",
        "    types.Content(\n",
        "      role=\"user\",\n",
        "      parts=[\n",
        "        types.Part.from_text(text=prompt)\n",
        "      ]\n",
        "    ),\n",
        "  ]\n",
        "  generate_content_config = types.GenerateContentConfig(\n",
        "    temperature = 1,\n",
        "    top_p = 0.95,\n",
        "    max_output_tokens = 8192,\n",
        "    response_modalities = [\"TEXT\"],\n",
        "    safety_settings = [types.SafetySetting(\n",
        "      category=\"HARM_CATEGORY_HATE_SPEECH\",\n",
        "      threshold=\"OFF\"\n",
        "    ),types.SafetySetting(\n",
        "      category=\"HARM_CATEGORY_DANGEROUS_CONTENT\",\n",
        "      threshold=\"OFF\"\n",
        "    ),types.SafetySetting(\n",
        "      category=\"HARM_CATEGORY_SEXUALLY_EXPLICIT\",\n",
        "      threshold=\"OFF\"\n",
        "    ),types.SafetySetting(\n",
        "      category=\"HARM_CATEGORY_HARASSMENT\",\n",
        "      threshold=\"OFF\"\n",
        "    )],\n",
        "  )\n",
        "\n",
        "  response = client.models.generate_content(\n",
        "    model = model,\n",
        "    contents = contents,\n",
        "    config = generate_content_config,\n",
        "    )\n",
        "\n",
        "  return response\n",
        "\n",
        "print(generate(\"Tell me a joke\"))"
      ],
      "metadata": {
        "colab": {
          "base_uri": "https://localhost:8080/"
        },
        "id": "3IE5yN2Gqz5c",
        "executionInfo": {
          "status": "ok",
          "timestamp": 1744727236204,
          "user_tz": 240,
          "elapsed": 2004,
          "user": {
            "displayName": "",
            "userId": ""
          }
        },
        "outputId": "280e0af3-d3f7-45a4-e7fa-dc46e6c3cb3a"
      },
      "id": "3IE5yN2Gqz5c",
      "execution_count": 5,
      "outputs": [
        {
          "output_type": "stream",
          "name": "stdout",
          "text": [
            "candidates=[Candidate(content=Content(parts=[Part(video_metadata=None, thought=None, code_execution_result=None, executable_code=None, file_data=None, function_call=None, function_response=None, inline_data=None, text=\"Why don't scientists trust atoms?\\n\\nBecause they make up everything!\\n\")], role='model'), citation_metadata=None, finish_message=None, token_count=None, avg_logprobs=-0.006102173589169979, finish_reason='STOP', grounding_metadata=None, index=None, logprobs_result=None, safety_ratings=None)] model_version='gemini-2.0-flash-001' prompt_feedback=None usage_metadata=GenerateContentResponseUsageMetadata(cached_content_token_count=None, candidates_token_count=16, prompt_token_count=4, total_token_count=20) automatic_function_calling_history=[] parsed=None\n"
          ]
        }
      ]
    },
    {
      "cell_type": "markdown",
      "source": [
        "## Generate an Alert using Gemini for each airport weather forecast"
      ],
      "metadata": {
        "id": "fKaVROpAxNeO"
      },
      "id": "fKaVROpAxNeO"
    },
    {
      "cell_type": "code",
      "source": [
        "def generate_alert(airport_code, forecast_data):\n",
        "    forecast_text = \"\\n\".join(\n",
        "        [f\"{entry['name']}: {entry['forecast']}\" for entry in forecast_data[:4]]\n",
        "    )\n",
        "\n",
        "    prompt = f\"\"\"\n",
        "    You are a helpful weather assistant. Based on the following forecast, generate a short alert for pilots or travelers at {airport_code}.\n",
        "\n",
        "    Forecast:\n",
        "    {forecast_text}\n",
        "\n",
        "    The alert should be 1-3 sentences, highlighting any potentially impactful weather (e.g., rain, storms, wind, snow, fog, or extreme temperatures). If no alerts are needed, say \"No significant weather concerns at this time.\"\n",
        "    \"\"\"\n",
        "\n",
        "    response = generate(prompt)\n",
        "    return response.text.strip()\n",
        "\n",
        "# Generate and print alerts for each airport\n",
        "for code, forecast in airport_forecasts.items():\n",
        "    print(f\"\\n✈️ Alert for {code}:\")\n",
        "    try:\n",
        "        alert = generate_alert(code, forecast)\n",
        "        print(f\"  {alert}\")\n",
        "    except Exception as e:\n",
        "        print(f\"  ❌ Failed to generate alert: {e}\")"
      ],
      "metadata": {
        "colab": {
          "base_uri": "https://localhost:8080/"
        },
        "id": "rJzE4BeUq0tH",
        "executionInfo": {
          "status": "ok",
          "timestamp": 1744727252387,
          "user_tz": 240,
          "elapsed": 13180,
          "user": {
            "displayName": "",
            "userId": ""
          }
        },
        "outputId": "7b2d3b81-7214-45cc-e021-3d0f68dc19ef"
      },
      "id": "rJzE4BeUq0tH",
      "execution_count": 6,
      "outputs": [
        {
          "output_type": "stream",
          "name": "stdout",
          "text": [
            "\n",
            "✈️ Alert for JFK:\n",
            "  JFK ALERT: Expect showers and thunderstorms possible today between 11 AM and 10 PM. Strong westerly winds with gusts up to 44 mph are expected today and tonight, diminishing slightly on Wednesday.\n",
            "\n",
            "✈️ Alert for LGA:\n",
            "  **LGA Alert:** Expect showers and thunderstorms today and tonight, with a 40% chance of precipitation. Strong westerly winds are expected, with gusts up to 45 mph today and 44 mph tonight, decreasing slightly on Wednesday.\n",
            "\n",
            "✈️ Alert for EWR:\n",
            "  EWR Alert: Expect potential showers and thunderstorms this afternoon and evening. Strong and gusty winds are also expected today and tonight, with gusts up to 47 mph.\n",
            "\n",
            "✈️ Alert for PHI:\n",
            "  **PHI Weather Alert:** Chance of rain showers and thunderstorms today before 2PM. Expect gusty west winds up to 40 mph today and tonight.\n",
            "\n",
            "✈️ Alert for BWI:\n",
            "  BWI Alert: Expect strong and gusty winds today, with gusts up to 47 mph possible. There is also a chance of rain showers today and tonight.\n",
            "\n",
            "✈️ Alert for DCA:\n",
            "  **DCA Alert:** Expect strong and gusty westerly winds today, with gusts up to 47 mph possible. There is also a 40% chance of rain showers today and a slight chance tonight.\n",
            "\n",
            "✈️ Alert for WAS:\n",
            "  Attention pilots and travelers at WAS: Expect gusty winds today, with sustained winds from the west at 10-28 mph and gusts up to 47 mph. There is also a 40% chance of rain showers today.\n",
            "\n",
            "✈️ Alert for IAD:\n",
            "  IAD Alert: Expect gusty conditions today, with winds from the west at 13-28 mph and gusts up to 47 mph. There is a slight chance of rain showers today and tonight.\n",
            "\n",
            "✈️ Alert for MIA:\n",
            "  No significant weather concerns at this time. Expect mostly clear skies and light winds at MIA for the next 24 hours.\n",
            "\n",
            "✈️ Alert for ATL:\n",
            "  Pilots and Travelers at ATL: Expect gusty northwest winds today and tonight, with gusts up to 30 mph possible. Exercise caution during takeoff and landing.\n",
            "\n",
            "✈️ Alert for MSY:\n",
            "  No significant weather concerns at this time. Expect mostly sunny skies and moderate winds (10-15 mph from the north today) at MSY. Temperatures will be mild, ranging from the upper 50s to upper 70s.\n",
            "\n",
            "✈️ Alert for IAH:\n",
            "  IAH Alert: Expect gusty winds today and Wednesday. Gusts could reach 20 mph today and 25 mph on Wednesday.\n",
            "\n",
            "✈️ Alert for DFW:\n",
            "  **DFW Alert:** Gusty winds are expected Wednesday and Wednesday night. South/Southeast winds of 5-15 mph, gusting to 30 mph, are forecast.\n",
            "\n",
            "✈️ Alert for ORD:\n",
            "  **ORD Alert:** Expect scattered rain showers before 11 AM today with strong northwest winds of 20-25 mph, gusting up to 40 mph. Winds will diminish overnight, but gusts up to 30 mph are still possible.\n",
            "\n",
            "✈️ Alert for MSP:\n",
            "  Gusty northwest winds up to 30 mph are expected at MSP today. Otherwise, conditions are expected to be clear.\n",
            "\n",
            "✈️ Alert for DEN:\n",
            "  No significant weather concerns at this time. Winds at DEN may gust up to 17 mph tonight and tomorrow.\n",
            "\n",
            "✈️ Alert for ANC:\n",
            "  **Alert for ANC:** Expect high winds tonight and Wednesday, with gusts up to 45 mph. Rain is likely Wednesday, especially between 7 AM and 1 PM, and will continue through Wednesday night.\n",
            "\n",
            "✈️ Alert for LAS:\n",
            "  LAS travelers and pilots: Be advised of gusty winds on Wednesday. South winds of 2-14 mph, gusting up to 22 mph, are expected during the day, with gusts potentially reaching 18 mph Wednesday night.\n",
            "\n",
            "✈️ Alert for SAN:\n",
            "  Possible patchy drizzle near SAN this morning (after 5 AM) and again before 11 AM Wednesday. Expect reduced visibility during these times.\n",
            "\n",
            "✈️ Alert for LAX:\n",
            "  LAX Alert: Expect patchy drizzle and fog, especially before 11 AM and after 11 PM tonight. This could reduce visibility, so pilots and travelers should be prepared for potential delays.\n",
            "\n",
            "✈️ Alert for SFO:\n",
            "  SFO: Expect southwest winds 7-15 mph today, with gusts up to 20 mph possible. Otherwise, no significant weather concerns.\n",
            "\n",
            "✈️ Alert for HNL:\n",
            "  HNL: Isolated rain showers possible through Wednesday. Expect haze Wednesday afternoon with light winds.\n"
          ]
        }
      ]
    }
  ],
  "metadata": {
    "kernelspec": {
      "display_name": "Python 3",
      "language": "python",
      "name": "python3"
    },
    "language_info": {
      "codemirror_mode": {
        "name": "ipython",
        "version": 3
      },
      "file_extension": ".py",
      "mimetype": "text/x-python",
      "name": "python",
      "nbconvert_exporter": "python",
      "pygments_lexer": "ipython3",
      "version": "3.10.10"
    },
    "colab": {
      "provenance": [],
      "name": "drehnstrom (Apr 15, 2025, 8:52:47 AM)"
    }
  },
  "nbformat": 4,
  "nbformat_minor": 5
}